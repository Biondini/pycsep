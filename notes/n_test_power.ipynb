{
 "cells": [
  {
   "cell_type": "markdown",
   "metadata": {},
   "source": [
    "# On the N-test and relating to the Power of this test\n",
    "\n",
    "---\n",
    "\n",
    "**To-do:** \n",
    " * Add notation for the event sets\n",
    " * Include code/description for N-test\n",
    " * Verify the formulations of the statistical test with group\n",
    "---\n",
    "\n",
    "The N-test evaluates how well an earthquake forecast matches the observed number of events in a catalog [Zechar et al., 2010]. Here, we have modified the N-test as described by Zechar et al. [2010] to accomodate forecasts that produce stochastic event sets. Conceptually, the tests are identical, but in practice, this modification means we have removed the Poisson assumption required for CSEP1 evaluations by replacing the Poisson test distribution from Zechar et al. [2010] with an empirical distribution dervied from a stochastic event set. See Zechar et al. [2010] for an in-depth explanation of the N-test defined in CSEP1.\n",
    "\n",
    "In CSEP2, we define an earthquake forecast through a stochastic event set, which is defined as the collection of $N$ synthetic catalogs produced by a single model. Each catalog in the stochastic event set should have identical model configurations, so that the catalogs represent individual realizations from the stochastic event set. At minimum the synthetic catalogs should contain the date-time, magnitude, and $(x,y)$ hypocenter locations for each forecasted event.\n",
    "\n",
    "The power of a statistical evaluation is defined as the ability to correctly reject an incorrect null hypothesis. The N-test defined for stochastic event sets answers the following questions: (1) Given the empirical distribution of event counts, what is the probability of observing at most $N_obs$ earthquakes, and (2) given the empirical distribution of event counts, what is the probability of observing more than $N_obs$ events. Here, $N_obs$ is the number of events in the observed catalog. \n",
    "\n",
    "An especially important question for the California Testing center is related to the ability to distinguish between features in similar models, such as UCERF3-ETAS versus UCERF3-NoFaults. For this exploration of the power of an N-test, we will simulate the power of the N-test using these two aforementioned forecasts. In developing new tests for CSEP, we should optimize the power of the tests employed, so that experimental questions can be answered with confidence."
   ]
  },
  {
   "cell_type": "markdown",
   "metadata": {},
   "source": [
    "# Understanding the power of the N-test\n",
    "\n",
    "The power of a statistical test is the probability of properly rejecting an incorrect null hypothesis. As shown by Zechar et al. [2010] (with slight modifications for stocahstic event sets), we can simulate the power of a statistical test using the following approach: (1) given two forecasts (in this case UCERF3-ETAS and UCERF3-NoFaults), we will assume that one event-count forecast $\\Lambda_1$ represents the 'true' generator of seismicity and $\\Lambda_2$ represents the forecasted seismicity. Since both forecasts are stochastic event sets, we can sample $\\Lambda_1$ and perform the N-test against $\\Lambda_2$ for each catalog sampled from $\\Lambda_1$. This produce could be computed in the opposite sense by allowing $\\Lambda_2$ to be the 'true' distribution.\n",
    "\n",
    "This will generate two data products: (1) the quantile score $\\gamma$ which includes rejection information based on the significance level $\\alpha$ and (2) the distribution of p-values produced from the evaluations. We can say the power of the test is related to (1) which is the fraction of test results that properly reject the null hypothesis at some significance level $\\alpha$. "
   ]
  },
  {
   "cell_type": "markdown",
   "metadata": {},
   "source": [
    "# Algorithm details\n",
    "In the preliminary versions of this analysis, we assume that $\\alpha=1$ and UCERF3-ETAS represents the 'true' event-count forecast. We will filter out events with $M_w < 3.95$ to provide some computational performance. We show the implementation of the procedure below."
   ]
  },
  {
   "cell_type": "markdown",
   "metadata": {},
   "source": [
    "## (0) Define Necessary Variables"
   ]
  },
  {
   "cell_type": "code",
   "execution_count": 1,
   "metadata": {},
   "outputs": [
    {
     "name": "stdout",
     "output_type": "stream",
     "text": [
      "Populating the interactive namespace from numpy and matplotlib\n"
     ]
    }
   ],
   "source": [
    "# imports go here\n",
    "import os\n",
    "import time\n",
    "import csep\n",
    "%pylab inline\n",
    "\n",
    "# analysis wide-variables go here\n",
    "\n",
    "# Minimum Magnitude for Catalogs\n",
    "mw_min = 3.95\n",
    "\n",
    "# Significance for rejection \n",
    "alpha = 0.05\n",
    "tol = alpha / 2.0\n",
    "\n",
    "# Filenames of target simulations\n",
    "project_root = '/Users/wsavran/Projects/CSEP2/u3etas_simulations/landers_experiment'\n",
    "filename = os.path.join(project_root, '10-23-2018_landers-pt1/results_complete.bin')\n",
    "filename_nofaults = os.path.join(project_root, '10-31-2018_landers-nofaults-pt1/results_complete.bin')"
   ]
  },
  {
   "cell_type": "markdown",
   "metadata": {},
   "source": [
    "## (1) Load UCERF3-ETAS Catalogs"
   ]
  },
  {
   "cell_type": "code",
   "execution_count": 2,
   "metadata": {},
   "outputs": [
    {
     "name": "stdout",
     "output_type": "stream",
     "text": [
      "Loaded 10000 UCERF3 catalogs in 20.824882984161377 seconds.\n",
      "\n"
     ]
    }
   ],
   "source": [
    "# NOTE: this approach loads all catalogs into memory. needs about 12Gb to work.\n",
    "# load ucerf3-etas stochastic event set\n",
    "u3catalogs_filt = []\n",
    "t0 = time.time()\n",
    "u3catalogs = csep.load_stochastic_event_set(filename=filename, type='ucerf3', format='native', name='UCERF3-ETAS')\n",
    "for u3catalog in u3catalogs:\n",
    "    u3catalogs_filt.append(u3catalog.filter('magnitude > {}'.format(mw_min)))\n",
    "t1 = time.time()\n",
    "print('Loaded {} UCERF3 catalogs in {} seconds.\\n'.format(len(u3catalogs_filt), (t1-t0)))"
   ]
  },
  {
   "cell_type": "markdown",
   "metadata": {},
   "source": [
    "# (2) Load UCERF3-NoFaults Catalogs\n"
   ]
  },
  {
   "cell_type": "code",
   "execution_count": 3,
   "metadata": {},
   "outputs": [
    {
     "name": "stdout",
     "output_type": "stream",
     "text": [
      "Loaded 10000 UCERF3 catalogs in 20.210861921310425 seconds.\n",
      "\n"
     ]
    }
   ],
   "source": [
    "u3nofaults_filt = []\n",
    "t0 = time.time()\n",
    "u3nofaults = csep.load_stochastic_event_set(filename=filename_nofaults, type='ucerf3', format='native', name='UCERF3-ETAS')\n",
    "for u3nofault in u3nofaults:\n",
    "    u3nofaults_filt.append(u3nofault.filter('magnitude > {}'.format(mw_min)))\n",
    "t1 = time.time()\n",
    "print('Loaded {} UCERF3 catalogs in {} seconds.\\n'.format(len(u3nofaults_filt), (t1-t0)))"
   ]
  },
  {
   "cell_type": "markdown",
   "metadata": {},
   "source": [
    "## (3) Compute N-test and Build Distributions\n",
    "\n",
    "Recall, we are assuming that UCERF3-ETAS repesents the 'true' distribution or in other words we are going to treat this simulation as if it were data. We are going to sample this stochastic event set with replacement 10000 times to generate the quantile score."
   ]
  },
  {
   "cell_type": "code",
   "execution_count": 4,
   "metadata": {
    "scrolled": true
   },
   "outputs": [],
   "source": [
    "from csep.core.evaluations import number_test\n",
    "\n",
    "n_sim = 10000\n",
    "n_cats = len(u3catalogs_filt)\n",
    "p_values = []\n",
    "results = []\n",
    "\n",
    "for i in range(n_sim):\n",
    "    true_catalog = u3catalogs_filt[i]\n",
    "    \n",
    "    # perform n-test\n",
    "    p_value, ax = number_test(u3nofaults_filt, true_catalog, interp_kind='nearest', fill_value='extrapolate')\n",
    "    p_values.append(p_value)\n",
    "    \n",
    "    # Rejected == 1 and Fail to reject == 0\n",
    "    if p_value < tol or p_value > (1 - tol):\n",
    "        results.append(1)\n",
    "    else:\n",
    "        results.append(0)\n",
    "        "
   ]
  },
  {
   "cell_type": "markdown",
   "metadata": {},
   "source": [
    "## (4) Visualize Results\n"
   ]
  },
  {
   "cell_type": "code",
   "execution_count": 8,
   "metadata": {},
   "outputs": [
    {
     "name": "stdout",
     "output_type": "stream",
     "text": [
      "Rejected 269 catalogs out of 10000 resulting in a power of 0.03.\n"
     ]
    },
    {
     "data": {
      "image/png": "[encoded data removed]",
      "text/plain": [
       "<Figure size 432x288 with 1 Axes>"
      ]
     },
     "metadata": {},
     "output_type": "display_data"
    }
   ],
   "source": [
    "import csep.utils.plotting\n",
    "\n",
    "results = array(results)\n",
    "ax = csep.utils.plotting.plot_histogram(p_values, tol, bins='fd', catalog=true_catalog, plot_args={'legend_loc': 'upper left',\n",
    "                                                                             'xlabel': 'p-value',\n",
    "                                                                             'sim_label': 'N-test p-values',\n",
    "                                                                             'obs_label': r'$\\pm \\alpha/2$',\n",
    "                                                                             'title': 'UCERF3-ETAS is True'})\n",
    "ax.axvline(x=(1-tol), color='black', linestyle='--')\n",
    "rejected = len(argwhere(results==1))\n",
    "power = rejected / n_cats\n",
    "print('Rejected {} catalogs out of {} resulting in a power of {:.2f}.'\n",
    "      .format(rejected, n_cats, power))"
   ]
  },
  {
   "cell_type": "markdown",
   "metadata": {},
   "source": [
    "# References\n",
    "Zechar, J. D., Gerstenberger, M. C., & Rhoades, D. A. (2010). Likelihood-based tests for evaluating space–rate–magnitude earthquake forecasts. Bulletin of the Seismological Society of America, 100(3), 1184-1195."
   ]
  }
 ],
 "metadata": {
  "kernelspec": {
   "display_name": "Python 3",
   "language": "python",
   "name": "python3"
  },
  "language_info": {
   "codemirror_mode": {
    "name": "ipython",
    "version": 3
   },
   "file_extension": ".py",
   "mimetype": "text/x-python",
   "name": "python",
   "nbconvert_exporter": "python",
   "pygments_lexer": "ipython3",
   "version": "3.6.3"
  }
 },
 "nbformat": 4,
 "nbformat_minor": 2
}
