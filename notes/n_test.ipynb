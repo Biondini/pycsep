{
 "cells": [
  {
   "cell_type": "markdown",
   "metadata": {},
   "source": [
    "William Savran <br>\n",
    "10/26/2018\n",
    "\n",
    "# Notes on the N-test\n",
    "\n",
    "\n",
    "The N-test evaluates how well an earthquake forecast matches the observed number of events in a catalog [Zechar et al., 2010]. Here, we have modified the N-test as described by Zechar et al. [2010] to accomodate forecasts that produce stochastic event sets. Conceptually, the tests are identical, but in practice, this modification means we have removed the Poisson assumption required for CSEP1 evaluations by replacing the Poisson test distribution from Zechar et al. [2010] with an empirical distribution estimated from a stochastic event set. See Zechar et al. [2010] for an in-depth explanation of the N-test defined in CSEP1.\n",
    "\n",
    "\n",
    "In CSEP2, we define an earthquake forecast through a stochastic event set, which is defined as the collection of $N$ synthetic catalogs produced by a single model. Each catalog in the stochastic event set should have identical model configurations, so that the catalogs represent individual realizations from the stochastic event set. At minimum the synthetic catalogs should contain the date-time, magnitude, and $(x,y)$ hypocenter locations for each forecasted event.\n",
    "\n",
    "The power of a statistical evaluation is defined as the ability to correctly reject an incorrect null hypothesis. The N-test defined for stochastic event sets answers the following questions: (1) Given the empirical distribution of event counts, what is the probability of observing at most $N_{obs}$ earthquakes, and (2) given the empirical distribution of event counts, what is the probability of observing more than $N_{obs}$ events. Here, $N_{obs}$ is the number of events in the observed catalog. \n",
    "\n",
    "An important trait for a useful evaluation of an earthquake forecast is the ability to distinguish between similar models, such as UCERF3-ETAS versus UCERF3-NoFaults. An evaluation should be able to correctly distinguish an incorrect hypothesis with high likelihood. In the following sections, we will simulate the power of the N-test using these two aforementioned forecasts. In developing new tests for CSEP2, we should look to optimize the power of the tests employed, so that experimental questions can be answered with confidence.\n",
    "\n",
    "The power of a statistical test is the probability of properly rejecting an incorrect null hypothesis. As shown by Zechar et al. [2010], we can simulate the power of a statistical test using the following approach (with slight modifications for stocahstic event sets): (1) given two forecasts (in this case UCERF3-ETAS and UCERF3-NoFaults), we will assume that one event-count forecast $\\Lambda_1$ represents the 'true' generator of seismicity and $\\Lambda_2$ represents the forecasted seismicity. Since both forecasts are stochastic event sets, we can sample $\\Lambda_1$ and perform the N-test against $\\Lambda_2$ for each catalog sampled from $\\Lambda_1$.\n",
    "\n",
    "This will generate two data products: (1) the quantile score $\\gamma$ which can be used as a basis for rejection based on the significance level $\\alpha$ and (2) the distribution of p-values produced from the evaluations. We can say the power of the test is related to (1) which is the fraction of test results that properly reject the null hypothesis at some significance level $\\alpha$. "
   ]
  },
  {
   "cell_type": "markdown",
   "metadata": {},
   "source": [
    "## N-Test implementation\n",
    "\n",
    "General algorithm for N-tests on stocahstic event sets; taken from the shared document.\n",
    "\n",
    "As regards the N-test, it could be replaced by this test. (The null hypothesis remains the same).\n",
    "* We sum the total number of earthquakes occurred, $M_{obs}$.\n",
    "* We count the same quantity in each simulated catalog to get $M_{obs(s)}$ where the index s indicates the s-th simulated catalog. The set of $M_{obs(s)}$ allows us to build numerically the distribution of M, given the model is 'true'. \n",
    "* The test compares $M_{obs(s)}$ with the empirical distribution, i.e., the P-value of the test is the percentile of the empirical distribution smaller/larger than $M_{obs(s)}$.\n",
    "\n",
    "##### **Note:** The cells need to be executed in order, because some variables are overwritten by later cells.\n"
   ]
  },
  {
   "cell_type": "code",
   "execution_count": 1,
   "metadata": {
    "scrolled": true
   },
   "outputs": [
    {
     "name": "stdout",
     "output_type": "stream",
     "text": [
      "Populating the interactive namespace from numpy and matplotlib\n"
     ]
    }
   ],
   "source": [
    "import time\n",
    "import os\n",
    "import csep\n",
    "import csep.utils.plotting\n",
    "import csep.core.evaluations\n",
    "from csep.utils.stats import ecdf\n",
    "%pylab inline\n",
    "\n",
    "# Minimum Magnitude for Catalogs\n",
    "mw_min = 2.95\n",
    "\n",
    "# Significance for rejection \n",
    "alpha = 0.05\n",
    "\n",
    "# two-sided test\n",
    "tol = alpha / 2.0\n",
    "\n",
    "# For Comcat catalog\n",
    "epoch_time = 709732655000\n",
    "duration_in_years = 1.0\n",
    "\n",
    "# Filenames of target simulations\n",
    "project_root = '/Users/wsavran/Projects/CSEP2/u3etas_simulations/landers_experiment'\n",
    "filename = os.path.join(project_root, '10-23-2018_landers-pt1/results_complete.bin')\n",
    "filename_nofaults = os.path.join(project_root, '10-31-2018_landers-nofaults-pt1/results_complete.bin')"
   ]
  },
  {
   "cell_type": "markdown",
   "metadata": {},
   "source": [
    "### Load Comcat Catalog and Stocahstic Event Set"
   ]
  },
  {
   "cell_type": "code",
   "execution_count": 2,
   "metadata": {},
   "outputs": [
    {
     "name": "stdout",
     "output_type": "stream",
     "text": [
      "Fetched Comcat catalog in 3.3082239627838135 seconds.\n",
      "\n",
      "Downloaded Comcat Catalog with following parameters\n",
      "Start Date: 1992-06-28 12:00:59.904000+00:00\n",
      "End Date: 1993-06-26 12:48:33.792000+00:00\n",
      "Min Latitude: 31.61 and Max Latitude: 41.84\n",
      "Min Longitude: -125.21 and Max Longitude: -113.18\n",
      "Min Magnitude: 2.96 and Max Magnitude: 6.30\n",
      "\n"
     ]
    }
   ],
   "source": [
    "t0 = time.time()\n",
    "comcat = csep.load_catalog(type='comcat', format='native',\n",
    "                        start_epoch=epoch_time, duration_in_years=1.0,\n",
    "                        min_magnitude=2.5, \n",
    "                        min_latitude=31.50, max_latitude=43.00,\n",
    "                        min_longitude=-125.40, max_longitude=-113.10,\n",
    "                    name='Comcat').filter('magnitude > {}'.format(mw_min))\n",
    "t1 = time.time()\n",
    "\n",
    "# Statements about Comcat Downloads\n",
    "print(\"Fetched Comcat catalog in {} seconds.\\n\".format(t1-t0))\n",
    "print(\"Downloaded Comcat Catalog with following parameters\")\n",
    "print(\"Start Date: {}\\nEnd Date: {}\".format(str(comcat.start_time), str(comcat.end_time)))\n",
    "print(\"Min Latitude: {:.2f} and Max Latitude: {:.2f}\".format(comcat.min_latitude, comcat.max_latitude))\n",
    "print(\"Min Longitude: {:.2f} and Max Longitude: {:.2f}\".format(comcat.min_longitude, comcat.max_longitude))\n",
    "print(\"Min Magnitude: {:.2f} and Max Magnitude: {:.2f}\\n\".format(comcat.min_magnitude, comcat.max_magnitude))"
   ]
  },
  {
   "cell_type": "code",
   "execution_count": 3,
   "metadata": {},
   "outputs": [
    {
     "name": "stdout",
     "output_type": "stream",
     "text": [
      "Loaded 10000 UCERF3 catalogs in 22.16463828086853 seconds.\n",
      "\n"
     ]
    }
   ],
   "source": [
    "# Load Stocahstic Event Set\n",
    "t0 = time.time()\n",
    "u3catalogs = csep.load_stochastic_event_set(filename=filename, type='ucerf3', format='native', name='UCERF3-ETAS')\n",
    "# Example of functional programming to apply function to stochastic event set\n",
    "u3catalogs_filt = list(map(lambda x: x.filter('magnitude > {}'.format(mw_min)), u3catalogs))\n",
    "t1 = time.time()\n",
    "print('Loaded {} UCERF3 catalogs in {} seconds.\\n'.format(len(u3catalogs_filt), (t1-t0)))"
   ]
  },
  {
   "cell_type": "markdown",
   "metadata": {},
   "source": [
    "### Get cumulative distributions"
   ]
  },
  {
   "cell_type": "code",
   "execution_count": 4,
   "metadata": {},
   "outputs": [
    {
     "data": {
      "image/png": "[encoded data removed]",
      "text/plain": [
       "<Figure size 432x288 with 1 Axes>"
      ]
     },
     "metadata": {},
     "output_type": "display_data"
    }
   ],
   "source": [
    "sim_counts = [catalog.get_number_of_events() for catalog in u3catalogs_filt]\n",
    "comcat_count = comcat.get_number_of_events()\n",
    "\n",
    "ax = csep.utils.plotting.plot_histogram(sim_counts, comcat_count, \n",
    "                                   catalog=u3catalogs_filt[0], \n",
    "                                   plot_args={'xlabel': 'Event Counts'})"
   ]
  },
  {
   "cell_type": "code",
   "execution_count": 5,
   "metadata": {},
   "outputs": [
    {
     "data": {
      "text/plain": [
       "<matplotlib.legend.Legend at 0x1ab231f4e0>"
      ]
     },
     "execution_count": 5,
     "metadata": {},
     "output_type": "execute_result"
    },
    {
     "data": {
      "image/png": "[encoded data removed]",
      "text/plain": [
       "<Figure size 432x288 with 1 Axes>"
      ]
     },
     "metadata": {},
     "output_type": "display_data"
    }
   ],
   "source": [
    "x, cdf = ecdf(sim_counts)\n",
    "fig, ax = subplots()\n",
    "ax.plot(x, cdf, label='UCERF3-ETAS')\n",
    "xlabel('Event Counts')\n",
    "ylabel('Cumulative Probability')\n",
    "axvline(x=comcat_count, color='black', linestyle='--', label='Comcat')\n",
    "legend(loc='best')"
   ]
  },
  {
   "cell_type": "code",
   "execution_count": 6,
   "metadata": {},
   "outputs": [],
   "source": [
    "def greater_equal_ecdf(x, val):\n",
    "    \"\"\"\n",
    "    Given val return P(x ≥ val).\n",
    "\n",
    "    Args:\n",
    "        x (numpy.array): set of values\n",
    "        val (float): value\n",
    "\n",
    "    Returns:\n",
    "        (float): probability that x ≤ val\n",
    "    \"\"\"\n",
    "    x = numpy.asarray(x)\n",
    "    ex, ey = ecdf(x)\n",
    "    eyc = ey[::-1]\n",
    "    # some short-circuit cases for discrete distributions\n",
    "    if val > numpy.max(x):\n",
    "        return 0.0\n",
    "    if val < numpy.min(x):\n",
    "        return 1.0\n",
    "    return eyc[numpy.searchsorted(ex, val)]\n",
    "\n",
    "def less_equal_ecdf(x, val):\n",
    "    \"\"\"\n",
    "    Given val return P(x ≤ val).\n",
    "\n",
    "    Args:\n",
    "        x (numpy.array): set of values\n",
    "        val (float): value\n",
    "\n",
    "    Returns:\n",
    "        (float): probability that x ≤ val\n",
    "    \"\"\"\n",
    "    x = numpy.asarray(x)\n",
    "    ex, ey = ecdf(x)\n",
    "    # some short-circuit cases for discrete distributions\n",
    "    if val > numpy.max(x):\n",
    "        return 1.0\n",
    "    if val < numpy.min(x):\n",
    "        return 0.0\n",
    "    return ey[numpy.searchsorted(ex,val,side='right')-1]\n"
   ]
  },
  {
   "cell_type": "markdown",
   "metadata": {},
   "source": [
    "### Putting it Together: The N-Test\n",
    "\n",
    "We can put evaluations into two main categories. Those which a single statistic is estimated from a catalog versus those were a distribution are estimated. The N-Test represents an example of the former, where as the MFD represents the latter."
   ]
  },
  {
   "cell_type": "code",
   "execution_count": 7,
   "metadata": {
    "collapsed": true
   },
   "outputs": [],
   "source": [
    "def number_test(stochastic_event_set, observation):\n",
    "    \"\"\"\n",
    "    Perform an N-Test on a stochastic event set and observation.\n",
    "    \n",
    "    Note: \n",
    "        Arguments must implement get_number_of_events() method for this function to work.\n",
    "    \"\"\"\n",
    "    # get number of events for observations and simulations\n",
    "    sim_counts = []\n",
    "    for catalog in stochastic_event_set:\n",
    "        sim_counts.append(catalog.get_number_of_events())\n",
    "    observation_count = observation.get_number_of_events()\n",
    "    # delta 1\n",
    "    delta_1 = greater_equal_ecdf(sim_counts, observation_count)\n",
    "    delta_2 = less_equal_ecdf(sim_counts, observation_count)\n",
    "    \n",
    "    return (delta_1, delta_2)"
   ]
  },
  {
   "cell_type": "code",
   "execution_count": 8,
   "metadata": {},
   "outputs": [
    {
     "name": "stdout",
     "output_type": "stream",
     "text": [
      "d1=1.0 and d2=0.0\n"
     ]
    }
   ],
   "source": [
    "p_value = number_test(u3catalogs_filt, comcat)\n",
    "print(r'd1={} and d2={}'.format(*p_value))"
   ]
  },
  {
   "cell_type": "code",
   "execution_count": 9,
   "metadata": {
    "scrolled": true
   },
   "outputs": [
    {
     "data": {
      "image/png": "[encoded data removed]",
      "text/plain": [
       "<Figure size 432x288 with 1 Axes>"
      ]
     },
     "metadata": {},
     "output_type": "display_data"
    }
   ],
   "source": [
    "from csep.core.evaluations import number_test as csep_number_test\n",
    "\n",
    "result, ax = csep_number_test(u3catalogs_filt, comcat, plot=True, plot_args={'show': True})"
   ]
  },
  {
   "cell_type": "code",
   "execution_count": 33,
   "metadata": {},
   "outputs": [
    {
     "data": {
      "image/png": "[encoded data removed]",
      "text/plain": [
       "<Figure size 432x288 with 1 Axes>"
      ]
     },
     "metadata": {},
     "output_type": "display_data"
    }
   ],
   "source": [
    "# test forecast where counts are mostly zero, following thought experiment in \n",
    "# zechar et al., 2010\n",
    "from csep.core.evaluations import number_test as csep_number_test\n",
    "n_obs = 0\n",
    "rate = 0.0015\n",
    "ints=random.poisson(lam=rate, size=5000000)\n",
    "\n",
    "class MockCatalog:\n",
    "    \"\"\"\n",
    "    Mock catalog class for testing purposes\n",
    "    \"\"\"\n",
    "    def __init__(self, val, name='Mock Catalog'):\n",
    "        self.val = val\n",
    "        self.name = name\n",
    "        \n",
    "    def __str__(self):\n",
    "        return ''\n",
    "\n",
    "    def get_number_of_events(self):\n",
    "        return self.val\n",
    "\n",
    "sets = [MockCatalog(val) for val in ints]\n",
    "obs = MockCatalog(n_obs, 'Mock Obs.')\n",
    "\n",
    "result, ax = csep_number_test(sets, obs, plot=True, plot_args={'show': True})"
   ]
  },
  {
   "cell_type": "markdown",
   "metadata": {},
   "source": [
    "## On the Power of the N-test\n",
    "In the preliminary versions of this analysis, we assume that $\\alpha=0.05$ and UCERF3-ETAS represents the 'true' event-count forecast. We will filter out events with $M_w < 3.95$ to provide some computational performance. We show the implementation of the procedure below.\n",
    "\n",
    "##### **Note:** The cells need to be executed in order, because some variables are overwritten by later cells."
   ]
  },
  {
   "cell_type": "markdown",
   "metadata": {},
   "source": [
    "### Load Catalogs\n"
   ]
  },
  {
   "cell_type": "code",
   "execution_count": 11,
   "metadata": {},
   "outputs": [
    {
     "name": "stdout",
     "output_type": "stream",
     "text": [
      "Loaded 10000 UCERF3 catalogs in 22.27287793159485 seconds.\n",
      "\n"
     ]
    }
   ],
   "source": [
    "u3nofaults_filt = []\n",
    "t0 = time.time()\n",
    "u3nofaults = csep.load_stochastic_event_set(filename=filename_nofaults, type='ucerf3', format='native', name='UCERF3-ETAS')\n",
    "for u3nofault in u3nofaults:\n",
    "    u3nofaults_filt.append(u3nofault.filter('magnitude > {}'.format(mw_min)))\n",
    "t1 = time.time()\n",
    "print('Loaded {} UCERF3 catalogs in {} seconds.\\n'.format(len(u3nofaults_filt), (t1-t0)))"
   ]
  },
  {
   "cell_type": "markdown",
   "metadata": {},
   "source": [
    "### Compute N-test and Build Distributions\n",
    "\n",
    "Recall, we are assuming that model $\\Lambda_1$ repesents the 'true' distribution of simulated seismiscity. This means  we are going to treat the *i*-th synthetic catalog, $\\Lambda_1^i$ from $\\Lambda_1$ as if it were data. We are going to estimate a p-value from the N-test for the distribution estimated from $\\Lambda_2$.\n",
    "\n",
    "We are going to perform the N-test at the 95% confidence limit. For all of the following tests, $\\alpha=0.05$.\n",
    "\n",
    "#### $\\Lambda_1$ = UCERF3-ETAS; $\\Lambda_2$ = UCERF3-NoFaults"
   ]
  },
  {
   "cell_type": "code",
   "execution_count": 12,
   "metadata": {
    "scrolled": true
   },
   "outputs": [],
   "source": [
    "n_sim = 10000\n",
    "n_cats = len(u3catalogs_filt)\n",
    "p_values = []\n",
    "results = []\n",
    "\n",
    "for i in range(n_sim):\n",
    "    true_catalog = u3catalogs_filt[i]\n",
    "    \n",
    "    # perform n-test\n",
    "    p_value, ax = csep_number_test(u3nofaults_filt, true_catalog)\n",
    "    p_values.append(p_value)\n",
    "    \n",
    "    # Rejected == 1 and Fail to reject == 0\n",
    "    if p_value[0] < tol or p_value[1] < tol:\n",
    "        results.append(1)\n",
    "    else:\n",
    "        results.append(0)\n",
    "        "
   ]
  },
  {
   "cell_type": "code",
   "execution_count": 13,
   "metadata": {},
   "outputs": [
    {
     "ename": "SyntaxError",
     "evalue": "invalid syntax (<ipython-input-13-ed34a277da42>, line 10)",
     "output_type": "error",
     "traceback": [
      "\u001b[0;36m  File \u001b[0;32m\"<ipython-input-13-ed34a277da42>\"\u001b[0;36m, line \u001b[0;32m10\u001b[0m\n\u001b[0;31m    rejected = len(argwhere(results==1))\u001b[0m\n\u001b[0m             ^\u001b[0m\n\u001b[0;31mSyntaxError\u001b[0m\u001b[0;31m:\u001b[0m invalid syntax\n"
     ]
    }
   ],
   "source": [
    "results = array(results)\n",
    "ax = csep.utils.plotting.plot_histogram(p_values, tol, \n",
    "                                        bins='fd', \n",
    "                                        catalog=true_catalog, \n",
    "                                        plot_args={'legend_loc': 'upper left',\n",
    "                                                   'xlabel': 'p-value',\n",
    "                                                   'sim_label': ('$\\delta_1$','$\\delta_2$'),\n",
    "                                                   'obs_label': r'$(\\alpha/2, 1-\\alpha/2)$',\n",
    "# compute the number of rejected models\n",
    "rejected = len(argwhere(results==1))\n",
    "power = rejected / n_cats\n",
    "print('Rejected {} catalogs out of {} resulting in a power of {:.2f}.'\n",
    "      .format(rejected, n_cats, power))"
   ]
  },
  {
   "cell_type": "markdown",
   "metadata": {},
   "source": [
    "#### $\\Lambda_1$ = UCERF3-NoFaults; $\\Lambda_2$ = UCERF3-ETAS"
   ]
  },
  {
   "cell_type": "code",
   "execution_count": null,
   "metadata": {},
   "outputs": [],
   "source": [
    "n_sim = 10000\n",
    "n_cats = len(u3catalogs_filt)\n",
    "p_values = []\n",
    "results = []\n",
    "\n",
    "for i in range(n_sim):\n",
    "    true_catalog = u3nofaults_filt[i]\n",
    "    \n",
    "    # perform n-test\n",
    "    p_value, ax = csep.core.evaluations.number_test(u3catalogs_filt, true_catalog)\n",
    "    p_values.append(p_value)\n",
    "    \n",
    "    # Rejected == 1 and Fail to reject == 0\n",
    "    if p_value[0] < tol or p_value[1] < tol:\n",
    "        results.append(1)\n",
    "    else:\n",
    "        results.append(0)"
   ]
  },
  {
   "cell_type": "code",
   "execution_count": null,
   "metadata": {},
   "outputs": [],
   "source": [
    "results = array(results)\n",
    "ax = csep.utils.plotting.plot_histogram(p_values, tol, \n",
    "                                        bins='fd', \n",
    "                                        catalog=true_catalog, \n",
    "                                        plot_args={'legend_loc': 'upper left',\n",
    "                                                   'xlabel': 'p-value',\n",
    "                                                   'sim_label': ('$\\delta_1$','$\\delta_2$'),\n",
    "                                                   'obs_label': r'$(\\alpha/2, 1-\\alpha/2)$',\n",
    "                                                   'title': 'UCERF3-NoFaults is True'})\n",
    "rejected = len(argwhere(results==1))\n",
    "power = rejected / n_cats\n",
    "print('Rejected {} catalogs out of {} resulting in a power of {:.2f}.'\n",
    "      .format(rejected, n_cats, power))"
   ]
  },
  {
   "cell_type": "markdown",
   "metadata": {},
   "source": [
    "#### $\\Lambda_1$ = UCERF3-ETAS; $\\Lambda_2$ = UCERF3-ETAS"
   ]
  },
  {
   "cell_type": "code",
   "execution_count": null,
   "metadata": {},
   "outputs": [],
   "source": [
    "n_sim = 10000\n",
    "n_cats = len(u3catalogs_filt)\n",
    "p_values = []\n",
    "results = []\n",
    "\n",
    "for i in range(n_sim):\n",
    "    true_catalog = u3catalogs_filt[i]\n",
    "    \n",
    "    # perform n-test\n",
    "    p_value, ax = csep.core.evaluations.number_test(u3catalogs_filt, true_catalog)\n",
    "    p_values.append(p_value)\n",
    "    \n",
    "    # Rejected == 1 and Fail to reject == 0\n",
    "    if p_value[0] < tol or p_value[1] < tol:\n",
    "        results.append(1)\n",
    "    else:\n",
    "        results.append(0)"
   ]
  },
  {
   "cell_type": "code",
   "execution_count": null,
   "metadata": {},
   "outputs": [],
   "source": [
    "results = array(results)\n",
    "ax = csep.utils.plotting.plot_histogram(p_values, tol, \n",
    "                                        bins='fd', \n",
    "                                        catalog=true_catalog, \n",
    "                                        plot_args={'legend_loc': 'upper left',\n",
    "                                                   'xlabel': 'p-value',\n",
    "                                                   'sim_label': 'p-values',\n",
    "                                                   'obs_label': r'$(\\alpha/2, 1-\\alpha/2)$',\n",
    "                                                   'title': 'UCERF3-ETAS is True'})\n",
    "rejected = len(argwhere(results==1))\n",
    "power = rejected / n_cats\n",
    "print('Rejected {} catalogs out of {}.'\n",
    "      .format(rejected, n_cats, power))"
   ]
  },
  {
   "cell_type": "markdown",
   "metadata": {},
   "source": [
    "## References\n",
    "Zechar, J. D., Gerstenberger, M. C., & Rhoades, D. A. (2010). Likelihood-based tests for evaluating space–rate–magnitude earthquake forecasts. Bulletin of the Seismological Society of America, 100(3), 1184-1195."
   ]
  }
 ],
 "metadata": {
  "kernelspec": {
   "display_name": "Python 3",
   "language": "python",
   "name": "python3"
  },
  "language_info": {
   "codemirror_mode": {
    "name": "ipython",
    "version": 3
   },
   "file_extension": ".py",
   "mimetype": "text/x-python",
   "name": "python",
   "nbconvert_exporter": "python",
   "pygments_lexer": "ipython3",
   "version": "3.6.3"
  }
 },
 "nbformat": 4,
 "nbformat_minor": 2
}
