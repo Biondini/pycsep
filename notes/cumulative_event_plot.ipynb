{
 "cells": [
  {
   "cell_type": "code",
   "execution_count": 14,
   "metadata": {},
   "outputs": [],
   "source": [
    "import os\n",
    "import time\n",
    "import pandas as pd\n",
    "import numpy as np\n",
    "import matplotlib.pyplot as plt\n",
    "import matplotlib.dates as mdates\n",
    "from mpl_toolkits.axes_grid1.inset_locator import zoomed_inset_axes, mark_inset\n",
    "from csep import load_stochastic_event_set, load_catalog"
   ]
  },
  {
   "cell_type": "code",
   "execution_count": 15,
   "metadata": {},
   "outputs": [
    {
     "name": "stdout",
     "output_type": "stream",
     "text": [
      "Filtered 10000 catalogs in 11.800339937210083 seconds.\n"
     ]
    }
   ],
   "source": [
    "project_root = '/Users/wsavran/Projects/CSEP2/u3etas_simulations/landers_experiment'\n",
    "filename = os.path.join(project_root, '10-23-2018_landers-pt1/results_complete.bin')\n",
    "\n",
    "u3catalogs = load_stochastic_event_set(type='ucerf3',\n",
    "                        format='native', filename=filename, name='UCERF3-ETAS')\n",
    "\n",
    "filtered = []\n",
    "t0 = time.time()\n",
    "for u3catalog in u3catalogs:\n",
    "    filtered.append(u3catalog.filter('magnitude > 3.95'))\n",
    "t1 = time.time()\n",
    "print('Filtered {} catalogs in {} seconds.'.format(u3catalog.catalog_id+1, t1-t0))"
   ]
  },
  {
   "cell_type": "code",
   "execution_count": 16,
   "metadata": {},
   "outputs": [
    {
     "name": "stdout",
     "output_type": "stream",
     "text": [
      "Fetched Comcat catalog in 5.207682847976685 seconds.\n",
      "\n",
      "Comcat catalog has the following parameters\n",
      "Start Date: 1992-06-28 12:00:59.904000+00:00\n",
      "End Date: 1993-05-31 08:55:11.616000+00:00\n",
      "Min Latitude: 32.242000579833984 and Max Latitude: 41.52033233642578\n",
      "Min Longitude: -124.40650177001953 and Max Longitude: -113.19066619873047\n",
      "Min Magnitude: 3.9600000381469727\n",
      "\n"
     ]
    }
   ],
   "source": [
    "# Comcat Catalog\n",
    "epoch_time = 709732655000\n",
    "duration_in_years = 1.0\n",
    "t0 = time.time()\n",
    "comcat = load_catalog(type='comcat', format='native',\n",
    "                        start_epoch=epoch_time, duration_in_years=1.0,\n",
    "                        min_magnitude=2.55,\n",
    "                        min_latitude=31.50, max_latitude=43.00,\n",
    "                        min_longitude=-125.40, max_longitude=-113.10,\n",
    "                    name='Comcat')\n",
    "comcat = comcat.filter('magnitude > 3.95')\n",
    "comcat_count = comcat.get_number_of_events()\n",
    "t1 = time.time()\n",
    "# Statements about Comcat Downloads\n",
    "print(\"Fetched Comcat catalog in {} seconds.\\n\".format(t1-t0))\n",
    "print(\"Comcat catalog has the following parameters\")\n",
    "print(\"Start Date: {}\\nEnd Date: {}\".format(str(comcat.start_time), str(comcat.end_time)))\n",
    "print(\"Min Latitude: {} and Max Latitude: {}\".format(comcat.min_latitude, comcat.max_latitude))\n",
    "print(\"Min Longitude: {} and Max Longitude: {}\".format(comcat.min_longitude, comcat.max_longitude))\n",
    "print(\"Min Magnitude: {}\\n\".format(comcat.min_magnitude))"
   ]
  },
  {
   "cell_type": "code",
   "execution_count": 17,
   "metadata": {},
   "outputs": [
    {
     "name": "stdout",
     "output_type": "stream",
     "text": [
      "Converted 3252898 ruptures into a single DataFrame in 57.2513108253479 seconds.\n"
     ]
    }
   ],
   "source": [
    "# get dataframe representation for all catalogs\n",
    "f = lambda x: x.get_dataframe()\n",
    "t0 = time.time()\n",
    "df = pd.concat(list(map(f, filtered)))\n",
    "t1 = time.time()\n",
    "print('Converted {} ruptures into a single DataFrame in {} seconds.'.format(len(df), t1-t0))"
   ]
  },
  {
   "cell_type": "code",
   "execution_count": null,
   "metadata": {},
   "outputs": [],
   "source": []
  },
  {
   "cell_type": "code",
   "execution_count": 18,
   "metadata": {},
   "outputs": [],
   "source": [
    "# get counts, cumulative_counts, percentiles in weekly intervals\n",
    "df_comcat = comcat.get_dataframe()\n",
    "\n",
    "# get statistics from stochastic event set\n",
    "df1 = df.groupby([df['catalog_id'], pd.Grouper(freq='W')])['counts'].agg(['sum'])\n",
    "df1['cum_sum'] = df1.groupby(level=0).cumsum()\n",
    "df2 = df1.groupby('datetime').describe(percentiles=(0.05,0.5,0.95))\n",
    "\n",
    "# remove tz information so pandas can plot\n",
    "df2.index = df2.index.tz_localize(None)\n",
    "\n",
    "df1_comcat = df_comcat.groupby(pd.Grouper(freq='W'))['counts'].agg(['sum'])\n",
    "df1_comcat['obs_cum_sum'] = df1_comcat['sum'].cumsum()\n",
    "df1_comcat.index = df1_comcat.index.tz_localize(None)\n",
    "\n",
    "df2.columns = [\"_\".join(x) for x in df2.columns.ravel()]\n",
    "df3 = df2.merge(df1_comcat, left_index=True, right_on='datetime', left_on='datetime')"
   ]
  },
  {
   "cell_type": "code",
   "execution_count": 19,
   "metadata": {},
   "outputs": [],
   "source": [
    "# plot using matplotlib directly\n",
    "fig, ax = plt.subplots()\n",
    "\n",
    "# date formatting\n",
    "locator = mdates.MonthLocator()  # every month\n",
    "fmt = mdates.DateFormatter('%b')\n",
    "\n",
    "ax.plot(df3.index, df3['obs_cum_sum'], color='black', label=comcat.name + ' (Obs)')\n",
    "ax.plot(df3.index, df3['cum_sum_50%'], color='blue', label=filtered[0].name)\n",
    "ax.fill_between(df3.index, df3['cum_sum_5%'], df3['cum_sum_95%'], color='blue', alpha=0.2, label='5%-95%')\n",
    "ax.legend(loc='lower right')\n",
    "ax.xaxis.set_major_locator(locator)\n",
    "ax.xaxis.set_major_formatter(fmt)\n",
    "ax.set_xlabel(df3.index.year.max())\n",
    "ax.set_ylabel('Cumulative Event Count')\n",
    "\n",
    "\n",
    "fig.savefig('ucerf3_mwfilt_3.95.pdf', box_inches='tight')\n",
    "plt.close(fig)"
   ]
  }
 ],
 "metadata": {
  "kernelspec": {
   "display_name": "Python 3",
   "language": "python",
   "name": "python3"
  },
  "language_info": {
   "codemirror_mode": {
    "name": "ipython",
    "version": 3
   },
   "file_extension": ".py",
   "mimetype": "text/x-python",
   "name": "python",
   "nbconvert_exporter": "python",
   "pygments_lexer": "ipython3",
   "version": "3.6.3"
  }
 },
 "nbformat": 4,
 "nbformat_minor": 2
}
