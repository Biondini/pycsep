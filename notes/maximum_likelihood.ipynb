{
 "cells": [
  {
   "cell_type": "markdown",
   "metadata": {},
   "source": [
    "# B-Value estimates from Maximum Likelihood\n",
    "\n",
    "Here we implement the maximum likelihood method from Tinti and Mulargia [1987]. We will compute the distribution of b-values from the stochastic event set and compare with the Comcat catalog. We will filter both the stochastic event sets and the catalog above Mw 3.95."
   ]
  },
  {
   "cell_type": "code",
   "execution_count": 1,
   "metadata": {},
   "outputs": [
    {
     "name": "stdout",
     "output_type": "stream",
     "text": [
      "Populating the interactive namespace from numpy and matplotlib\n"
     ]
    }
   ],
   "source": [
    "import time\n",
    "import os\n",
    "import pandas as pd\n",
    "import numpy as np\n",
    "import scipy.stats as stats\n",
    "from csep.utils.plotting import plot_mfd, plot_histogram\n",
    "import csep\n",
    "%pylab inline"
   ]
  },
  {
   "cell_type": "code",
   "execution_count": 2,
   "metadata": {},
   "outputs": [],
   "source": [
    "def bval_ml_est(mws, dmw):\n",
    "    \n",
    "    # compute the p term from eq 3.10 in marzocchi and sandri [2003]\n",
    "    def p():\n",
    "        top = dmw\n",
    "        # assuming that the magnitudes are truncated above Mc (ask about this).\n",
    "        bottom = np.mean(mws) - np.min(mws)\n",
    "        return 1 + top / bottom\n",
    "    \n",
    "    bottom = np.log(10) * dmw\n",
    "    return 1.0 / bottom * np.log(p())\n",
    "\n",
    "def bval_err_est(mws, dmw):\n",
    "    \n",
    "    # compute the p term from eq 3.10 in marzocchi and sandri [2003]\n",
    "    def p():\n",
    "        top = dmw\n",
    "        # assuming that the magnitudes are truncated above Mc (ask about this).\n",
    "        bottom = np.mean(mws) - np.min(mws)\n",
    "        return 1 + top / bottom\n",
    "\n",
    "    top = 1 - p()\n",
    "    bottom = np.log(10)*dmw*np.sqrt(len(mws)*p())\n",
    "    return top / bottom\n",
    "\n",
    "def discretize(data, bin_edges):\n",
    "    \"\"\"\n",
    "    returns array with len(bin_edges) consisting of the discretized values from each bin. \n",
    "    instead of returning the counts of each bin, this will return an array with values \n",
    "    modified such that any value within bin_edges[0] <= x_new < bin_edges[1] ==> bin_edges[0].\n",
    "    \"\"\"\n",
    "    n = data.shape[0]\n",
    "    idx = digitize(data, bins=bin_edges)\n",
    "    x_new = bin_edges[idx]\n",
    "    return x_new"
   ]
  },
  {
   "cell_type": "code",
   "execution_count": 3,
   "metadata": {},
   "outputs": [
    {
     "name": "stdout",
     "output_type": "stream",
     "text": [
      "Fetched Comcat catalog in 19.17481803894043 seconds.\n",
      "\n",
      "Downloaded Comcat Catalog with following parameters\n",
      "Start Date: 1992-06-28 12:00:59.904000+00:00\n",
      "End Date: 1993-05-31 08:55:11.616000+00:00\n",
      "Min Latitude: 32.242000579833984 and Max Latitude: 41.52033233642578\n",
      "Min Longitude: -124.40650177001953 and Max Longitude: -113.19066619873047\n",
      "Min Magnitude: 3.950000047683716 and Max Magnitude: 6.300000190734863\n",
      "\n"
     ]
    }
   ],
   "source": [
    "# Comcat Synthetics\n",
    "epoch_time = 709732655000\n",
    "duration_in_years = 1.0\n",
    "t0 = time.time()\n",
    "comcat = csep.load_catalog(type='comcat', format='native',\n",
    "                        start_epoch=epoch_time, duration_in_years=1.0,\n",
    "                        min_magnitude=2.5, \n",
    "                        min_latitude=31.50, max_latitude=43.00,\n",
    "                        min_longitude=-125.40, max_longitude=-113.10,\n",
    "                    name='Comcat').filter('magnitude >= 3.95')\n",
    "t1 = time.time()\n",
    "\n",
    "# Statements about Comcat Downloads\n",
    "print(\"Fetched Comcat catalog in {} seconds.\\n\".format(t1-t0))\n",
    "print(\"Downloaded Comcat Catalog with following parameters\")\n",
    "print(\"Start Date: {}\\nEnd Date: {}\".format(str(comcat.start_time), str(comcat.end_time)))\n",
    "print(\"Min Latitude: {} and Max Latitude: {}\".format(comcat.min_latitude, comcat.max_latitude))\n",
    "print(\"Min Longitude: {} and Max Longitude: {}\".format(comcat.min_longitude, comcat.max_longitude))\n",
    "print(\"Min Magnitude: {} and Max Magnitude: {}\\n\".format(comcat.min_magnitude, comcat.max_magnitude))"
   ]
  },
  {
   "cell_type": "code",
   "execution_count": 5,
   "metadata": {},
   "outputs": [],
   "source": [
    "# read in ucerf3 simulations\n",
    "project_root = '/Users/wsavran/Projects/CSEP2/u3etas_simulations/landers_experiment'\n",
    "filename = os.path.join(project_root, '10-23-2018_landers-pt1/results_complete.bin')\n",
    "filename_nofaults = os.path.join(project_root, '10-31-2018_landers-nofaults-pt1/results_complete.bin')\n",
    "u3catalogs = []\n",
    "for cat in csep.load_stochastic_event_set(filename=filename, format='native', type='ucerf3', name='UCERF3-ETAS'):\n",
    "    u3catalogs.append(cat.filter('magnitude >= 3.95'))\n",
    "    \n",
    "u3catalogs_nf = []\n",
    "for cat in csep.load_stochastic_event_set(filename=filename_nofaults, format='native', type='ucerf3', name='UCERF3-ETAS'):\n",
    "    u3catalogs_nf.append(cat.filter('magnitude >= 3.95'))"
   ]
  },
  {
   "cell_type": "code",
   "execution_count": 10,
   "metadata": {},
   "outputs": [
    {
     "name": "stdout",
     "output_type": "stream",
     "text": [
      "-0.062274241045844364\n",
      "18\n",
      "0.9259010960645139\n",
      "1.124557063250323\n",
      "[0.85824281 0.86215425 0.8660657  0.86997714 0.87388859 0.87780003\n",
      " 0.88171148 0.88562292 0.88953437 0.89344582 0.89735726 0.90126871\n",
      " 0.90518015 0.9090916  0.91300304 0.91691449 0.92082594 0.92473738\n",
      " 0.92864883 0.93256027 0.93647172 0.94038316 0.94429461 0.94820605\n",
      " 0.9521175  0.95602895 0.95994039 0.96385184 0.96776328 0.97167473\n",
      " 0.97558617 0.97949762 0.98340906 0.98732051 0.99123196 0.9951434\n",
      " 0.99905485 1.00296629 1.00687774 1.01078918 1.01470063 1.01861208\n",
      " 1.02252352 1.02643497 1.03034641 1.03425786 1.0381693  1.04208075\n",
      " 1.04599219 1.04990364 1.05381509 1.05772653 1.06163798 1.06554942\n",
      " 1.06946087 1.07337231 1.07728376 1.08119521 1.08510665 1.0890181\n",
      " 1.09292954 1.09684099 1.10075243 1.10466388 1.10857532 1.11248677\n",
      " 1.11639822 1.12030966 1.12422111 1.12813255 1.132044   1.13595544\n",
      " 1.13986689 1.14377833 1.14768978 1.15160123 1.15551267 1.15942412\n",
      " 1.16333556 1.16724701 1.17115845 1.1750699  1.17898135 1.18289279\n",
      " 1.18680424 1.19071568 1.19462713 1.19853857 1.20245002 1.20636146\n",
      " 1.21027291 1.21418436 1.2180958  1.22200725 1.22591869 1.22983014\n",
      " 1.23374158 1.23765303 1.24156447 1.24547592 1.24938737]\n"
     ]
    },
    {
     "data": {
      "image/png": "[encoded data removed]",
      "text/plain": [
       "<Figure size 432x288 with 1 Axes>"
      ]
     },
     "metadata": {
      "needs_background": "light"
     },
     "output_type": "display_data"
    }
   ],
   "source": [
    "dmw = 0.1\n",
    "b_vals = []\n",
    "\n",
    "# get b-values from stochastic event set\n",
    "for cat in u3catalogs:\n",
    "    global_max = max([max(cat.get_magnitudes()), max(comcat.get_magnitudes())])\n",
    "    mws = arange(3.95, global_max+2*dmw, dmw)\n",
    "    cat_mws = discretize(cat.get_magnitudes(), mws)\n",
    "    b_est = bval_ml_est(cat_mws, dmw)\n",
    "    b_vals.append(b_est)\n",
    "b_vals = np.array(b_vals)\n",
    "\n",
    "# get b-value for comcat catalog\n",
    "com_mws = discretize(comcat.get_magnitudes(), mws)\n",
    "com_bval = bval_ml_est(com_mws, dmw)\n",
    "com_bval_err = bval_err_est(com_mws, dmw)\n",
    "print(com_bval_err)\n",
    "\n",
    "# plot b-value estimates\n",
    "fig, bin_edges, patches = hist(b_vals, bins = 100, edgecolor='black', alpha=0.7, label='Stochastic Event Set')\n",
    "p25 = percentile(b_vals, 2.5)\n",
    "idx_low = digitize(p25, bin_edges)\n",
    "axvline(x=com_bval, color='black', linestyle='-', label='UCERF3-ETAS')\n",
    "axvline(x=com_bval-com_bval_err, color='black', linestyle='--', label='$\\pm\\hat{\\sigma_{TM}}$')\n",
    "axvline(x=com_bval+com_bval_err, color='black', linestyle='--')\n",
    "\n",
    "legend(loc='upper right')\n",
    "print(idx_low)\n",
    "for idx in range(idx_low):\n",
    "    patches[idx].set_fc('red')\n",
    "p975 = percentile(b_vals, 97.5)\n",
    "idx_high = digitize(p975, bin_edges)\n",
    "for idx in range(idx_high, len(patches)):\n",
    "    patches[idx].set_fc('red')\n",
    "print(p25)\n",
    "print(p975)\n",
    "print(bin_edges)\n",
    "\n",
    "xlabel('b-value')\n",
    "ylabel('Frequency')\n",
    "savefig('/Users/wsavran/Projects/CSEP/Presentation/Bristol_Mar19/b_vals.pdf')\n",
    "# title('b-value Estimates')\n"
   ]
  },
  {
   "cell_type": "code",
   "execution_count": 11,
   "metadata": {},
   "outputs": [
    {
     "name": "stdout",
     "output_type": "stream",
     "text": [
      "-0.062274241045844364\n",
      "16\n",
      "0.9224841139541583\n",
      "1.1300465243993754\n",
      "[0.85813811 0.86227429 0.86641048 0.87054667 0.87468285 0.87881904\n",
      " 0.88295523 0.88709141 0.8912276  0.89536379 0.89949997 0.90363616\n",
      " 0.90777235 0.91190853 0.91604472 0.92018091 0.92431709 0.92845328\n",
      " 0.93258947 0.93672565 0.94086184 0.94499803 0.94913421 0.9532704\n",
      " 0.95740659 0.96154277 0.96567896 0.96981515 0.97395133 0.97808752\n",
      " 0.98222371 0.98635989 0.99049608 0.99463227 0.99876845 1.00290464\n",
      " 1.00704083 1.01117701 1.0153132  1.01944939 1.02358557 1.02772176\n",
      " 1.03185795 1.03599413 1.04013032 1.04426651 1.04840269 1.05253888\n",
      " 1.05667507 1.06081125 1.06494744 1.06908363 1.07321981 1.077356\n",
      " 1.08149219 1.08562837 1.08976456 1.09390075 1.09803693 1.10217312\n",
      " 1.10630931 1.11044549 1.11458168 1.11871787 1.12285405 1.12699024\n",
      " 1.13112643 1.13526261 1.1393988  1.14353499 1.14767117 1.15180736\n",
      " 1.15594355 1.16007973 1.16421592 1.16835211 1.17248829 1.17662448\n",
      " 1.18076067 1.18489685 1.18903304 1.19316923 1.19730541 1.2014416\n",
      " 1.20557779 1.20971397 1.21385016 1.21798635 1.22212253 1.22625872\n",
      " 1.23039491 1.23453109 1.23866728 1.24280347 1.24693965 1.25107584\n",
      " 1.25521203 1.25934821 1.2634844  1.26762059 1.27175677]\n"
     ]
    },
    {
     "data": {
      "image/png": "[encoded data removed]",
      "text/plain": [
       "<Figure size 432x288 with 1 Axes>"
      ]
     },
     "metadata": {
      "needs_background": "light"
     },
     "output_type": "display_data"
    }
   ],
   "source": [
    "dmw = 0.1\n",
    "b_vals = []\n",
    "\n",
    "# get b-values from stochastic event set\n",
    "for cat in u3catalogs_nf:\n",
    "    global_max = max([max(cat.get_magnitudes()), max(comcat.get_magnitudes())])\n",
    "    mws = arange(3.95, global_max+2*dmw, dmw)\n",
    "    cat_mws = discretize(cat.get_magnitudes(), mws)\n",
    "    b_est = bval_ml_est(cat_mws, dmw)\n",
    "    b_vals.append(b_est)\n",
    "b_vals = np.array(b_vals)\n",
    "\n",
    "# get b-value for comcat catalog\n",
    "com_mws = discretize(comcat.get_magnitudes(), mws)\n",
    "com_bval = bval_ml_est(com_mws, dmw)\n",
    "com_bval_err = bval_err_est(com_mws, dmw)\n",
    "print(com_bval_err)\n",
    "\n",
    "# plot b-value estimates\n",
    "fig, bin_edges, patches = hist(b_vals, bins = 100, edgecolor='black', alpha=0.7, label='Stochastic Event Set')\n",
    "p25 = percentile(b_vals, 2.5)\n",
    "idx_low = digitize(p25, bin_edges)\n",
    "axvline(x=com_bval, color='black', linestyle='-', label='UCERF3-NoFaults')\n",
    "axvline(x=com_bval-com_bval_err, color='black', linestyle='--', label='$\\pm\\hat{\\sigma_{TM}}$')\n",
    "axvline(x=com_bval+com_bval_err, color='black', linestyle='--')\n",
    "\n",
    "legend(loc='upper right')\n",
    "print(idx_low)\n",
    "for idx in range(idx_low):\n",
    "    patches[idx].set_fc('red')\n",
    "p975 = percentile(b_vals, 97.5)\n",
    "idx_high = digitize(p975, bin_edges)\n",
    "for idx in range(idx_high, len(patches)):\n",
    "    patches[idx].set_fc('red')\n",
    "print(p25)\n",
    "print(p975)\n",
    "print(bin_edges)\n",
    "\n",
    "xlabel('b-value')\n",
    "ylabel('Frequency')\n",
    "savefig('/Users/wsavran/Projects/CSEP/Presentation/Bristol_Mar19/b_vals_nf.pdf')\n",
    "# title('b-value Estimates')"
   ]
  },
  {
   "cell_type": "markdown",
   "metadata": {},
   "source": [
    "## Verifying computation of $a$ from Michael [2014]\n",
    "\n",
    "$log(N(m)) = a - bM$ <br>\n",
    "$ a = log(N(m)/T) + bM $\n",
    "\n",
    "From Table 2 in Michael [2014], <br>\n",
    "$T$: 1900 $-$ 2009 <br>\n",
    "$M_c:$ 7.7 <br> \n",
    "$N^{\\prime}:$ 100 <br> \n",
    "$b$ = 1.59 $\\pm$ 0.13"
   ]
  },
  {
   "cell_type": "code",
   "execution_count": null,
   "metadata": {},
   "outputs": [],
   "source": [
    "Np = 100\n",
    "b = 1.59\n",
    "Mc = 7.7\n",
    "T = 2009-1900\n",
    "sigma = 0.13\n",
    "\n",
    "def a_val(N, M, b, T):\n",
    "    return np.log10(N/T) + M*b\n",
    "\n",
    "a = a_val(Np, Mc, b, T)\n",
    "print(a)\n",
    "\n",
    "def a_err(a, b, sigma):\n",
    "    return a*sigma/b\n",
    "\n",
    "print(a_err(a, b, sigma))"
   ]
  },
  {
   "cell_type": "code",
   "execution_count": null,
   "metadata": {},
   "outputs": [],
   "source": [
    "Np = 635\n",
    "b = 1.07\n",
    "Mc = 7.0\n",
    "T = 2009-1918\n",
    "sigma = 0.03\n",
    "\n",
    "def a_val(N, M, b, T):\n",
    "    return np.log10(N/T) + M*b\n",
    "\n",
    "a = a_val(Np, Mc, b, T)\n",
    "print(a)\n",
    "\n",
    "def a_err(a, b, sigma):\n",
    "    return sigma/b*a\n",
    "\n",
    "print(a_err(a, b, sigma))"
   ]
  },
  {
   "cell_type": "code",
   "execution_count": null,
   "metadata": {},
   "outputs": [],
   "source": [
    "Np = 810\n",
    "b = 1.05\n",
    "Mc = 6.8\n",
    "T = 2009-1940\n",
    "sigma = 0.03\n",
    "\n",
    "def a_val(N, M, b, T):\n",
    "    return np.log10(N/T) + M*b\n",
    "\n",
    "a = a_val(Np, Mc, b, T)\n",
    "print(a)\n",
    "\n",
    "def a_err(a, b, sigma):\n",
    "    return sigma/b*a\n",
    "\n",
    "print(a_err(a, b, sigma))"
   ]
  }
 ],
 "metadata": {
  "kernelspec": {
   "display_name": "Python 3",
   "language": "python",
   "name": "python3"
  },
  "language_info": {
   "codemirror_mode": {
    "name": "ipython",
    "version": 3
   },
   "file_extension": ".py",
   "mimetype": "text/x-python",
   "name": "python",
   "nbconvert_exporter": "python",
   "pygments_lexer": "ipython3",
   "version": "3.7.3"
  }
 },
 "nbformat": 4,
 "nbformat_minor": 4
}
