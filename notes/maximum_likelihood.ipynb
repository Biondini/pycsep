{
 "cells": [
  {
   "cell_type": "markdown",
   "metadata": {},
   "source": [
    "# B-Value estimates from Maximum Likelihood\n",
    "\n",
    "Here we implement the maximum likelihood method from Tinti and Mulargia [1987]. We will compute the distribution of b-values from the stochastic event set and compare with the Comcat catalog. We will filter both the stochastic event sets and the catalog above Mw 3.95."
   ]
  },
  {
   "cell_type": "code",
   "execution_count": 1,
   "metadata": {},
   "outputs": [
    {
     "name": "stdout",
     "output_type": "stream",
     "text": [
      "Populating the interactive namespace from numpy and matplotlib\n"
     ]
    }
   ],
   "source": [
    "import time\n",
    "import os\n",
    "import pandas as pd\n",
    "import numpy as np\n",
    "import scipy.stats as stats\n",
    "from csep.utils.plotting import plot_mfd\n",
    "import csep\n",
    "%pylab inline"
   ]
  },
  {
   "cell_type": "code",
   "execution_count": 2,
   "metadata": {
    "collapsed": true
   },
   "outputs": [],
   "source": [
    "def bval_ml_est(mws, dmw):\n",
    "    \n",
    "    # compute the p term from eq 3.10 in marzocchi and sandri [2003]\n",
    "    def p():\n",
    "        top = dmw\n",
    "        # assuming that the magnitudes are truncated above Mc (ask about this).\n",
    "        bottom = np.mean(mws) - np.min(mws)\n",
    "        return 1 + top / bottom\n",
    "    \n",
    "    bottom = np.log(10) * dmw\n",
    "    return 1.0 / bottom * np.log(p())\n",
    "\n",
    "def bval_err_est(mws, dmw):\n",
    "    \n",
    "    # compute the p term from eq 3.10 in marzocchi and sandri [2003]\n",
    "    def p():\n",
    "        top = dmw\n",
    "        # assuming that the magnitudes are truncated above Mc (ask about this).\n",
    "        bottom = np.mean(mws) - np.min(mws)\n",
    "        return 1 + top / bottom\n",
    "\n",
    "    top = 1 - p()\n",
    "    bottom = np.log(10)*dmw*np.sqrt(len(mws)*p())\n",
    "    return top / bottom\n",
    "\n",
    "def discretize(data, bin_edges):\n",
    "    \"\"\"\n",
    "    returns array with len(bin_edges) consisting of the discretized values from each bin. \n",
    "    instead of returning the counts of each bin, this will return an array with values \n",
    "    modified such that any value within bin_edges[0] <= x_new < bin_edges[1] ==> x_new.\n",
    "    \"\"\"\n",
    "    n = data.shape[0]\n",
    "    idx = digitize(data, bins=bin_edges)\n",
    "    x_new = bin_edges[idx]\n",
    "    return x_new"
   ]
  },
  {
   "cell_type": "code",
   "execution_count": 3,
   "metadata": {},
   "outputs": [
    {
     "name": "stdout",
     "output_type": "stream",
     "text": [
      "Fetched Comcat catalog in 6.098243951797485 seconds.\n",
      "\n",
      "Downloaded Comcat Catalog with following parameters\n",
      "Start Date: 1992-06-28 12:00:59.904000+00:00\n",
      "End Date: 1993-05-31 08:55:11.616000+00:00\n",
      "Min Latitude: 32.242000579833984 and Max Latitude: 41.52033233642578\n",
      "Min Longitude: -124.40650177001953 and Max Longitude: -113.19066619873047\n",
      "Min Magnitude: 3.9600000381469727 and Max Magnitude: 6.300000190734863\n",
      "\n"
     ]
    }
   ],
   "source": [
    "# Comcat Synthetics\n",
    "epoch_time = 709732655000\n",
    "duration_in_years = 1.0\n",
    "t0 = time.time()\n",
    "comcat = csep.load_catalog(type='comcat', format='native',\n",
    "                        start_epoch=epoch_time, duration_in_years=1.0,\n",
    "                        min_magnitude=2.5, \n",
    "                        min_latitude=31.50, max_latitude=43.00,\n",
    "                        min_longitude=-125.40, max_longitude=-113.10,\n",
    "                    name='Comcat').filter('magnitude > 3.95')\n",
    "t1 = time.time()\n",
    "\n",
    "# Statements about Comcat Downloads\n",
    "print(\"Fetched Comcat catalog in {} seconds.\\n\".format(t1-t0))\n",
    "print(\"Downloaded Comcat Catalog with following parameters\")\n",
    "print(\"Start Date: {}\\nEnd Date: {}\".format(str(comcat.start_time), str(comcat.end_time)))\n",
    "print(\"Min Latitude: {} and Max Latitude: {}\".format(comcat.min_latitude, comcat.max_latitude))\n",
    "print(\"Min Longitude: {} and Max Longitude: {}\".format(comcat.min_longitude, comcat.max_longitude))\n",
    "print(\"Min Magnitude: {} and Max Magnitude: {}\\n\".format(comcat.min_magnitude, comcat.max_magnitude))"
   ]
  },
  {
   "cell_type": "code",
   "execution_count": 4,
   "metadata": {
    "collapsed": true
   },
   "outputs": [],
   "source": [
    "# read in ucerf3 simulations\n",
    "project_root = '/Users/wsavran/Projects/CSEP2/u3etas_simulations/landers_experiment'\n",
    "filename = os.path.join(project_root, '10-23-2018_landers-pt1/results_complete.bin')\n",
    "filename_nofaults = os.path.join(project_root, '10-31-2018_landers-nofaults-pt1/results_complete.bin')\n",
    "u3catalogs = []\n",
    "for cat in csep.load_stochastic_event_set(filename=filename, format='native', type='ucerf3', name='UCERF3-ETAS'):\n",
    "    u3catalogs.append(cat.filter('magnitude > 3.95'))"
   ]
  },
  {
   "cell_type": "code",
   "execution_count": 36,
   "metadata": {},
   "outputs": [
    {
     "name": "stdout",
     "output_type": "stream",
     "text": [
      "-0.0620467887229116\n"
     ]
    },
    {
     "data": {
      "text/plain": [
       "<matplotlib.legend.Legend at 0x1a2a11ccc0>"
      ]
     },
     "execution_count": 36,
     "metadata": {},
     "output_type": "execute_result"
    },
    {
     "data": {
      "image/png": "[encoded data removed]",
      "text/plain": [
       "<Figure size 432x288 with 1 Axes>"
      ]
     },
     "metadata": {},
     "output_type": "display_data"
    }
   ],
   "source": [
    "dmw = 0.1\n",
    "b_vals = []\n",
    "\n",
    "# get b-values from stochastic event set\n",
    "for cat in u3catalogs:\n",
    "    global_max = max([max(cat.get_magnitudes()), max(comcat.get_magnitudes())])\n",
    "    mws = arange(3.95, global_max+2*dmw, dmw)\n",
    "    cat_mws = discretize(cat.get_magnitudes(), mws)\n",
    "    b_est = bval_ml_est(cat_mws, dmw)\n",
    "    b_vals.append(b_est)\n",
    "b_vals = np.array(b_vals)\n",
    "\n",
    "# get b-value for comcat catalog\n",
    "com_mws = discretize(comcat.get_magnitudes(), mws)\n",
    "com_bval = bval_ml_est(com_mws, dmw)\n",
    "com_bval_err = bval_err_est(com_mws, dmw)\n",
    "print(com_bval_err)\n",
    "\n",
    "# plot b-value estimates\n",
    "fig = hist(b_vals, bins = 60, edgecolor='black', alpha=0.7, label='Stochastic Event Set')\n",
    "axvline(x=com_bval, color='black', linestyle='-', label='Observation')\n",
    "axvline(x=com_bval-com_bval_err, color='black', linestyle='--', label='$\\pm\\hat{\\sigma_{TM}}$')\n",
    "axvline(x=com_bval+com_bval_err, color='black', linestyle='--')\n",
    "xlabel('b-value')\n",
    "ylabel('Frequency')\n",
    "title('b-value Estimates')\n",
    "legend(loc='upper right')"
   ]
  },
  {
   "cell_type": "markdown",
   "metadata": {},
   "source": [
    "## Verifying computation of $a$ from Michael [2014]\n",
    "\n",
    "$log(N(m)) = a - bM$ <br>\n",
    "$ a = log(N(m)/T) + bM $\n",
    "\n",
    "From Table 2 in Michael [2014], <br>\n",
    "$T$: 1900 $-$ 2009 <br>\n",
    "$M_c:$ 7.7 <br> \n",
    "$N^{\\prime}:$ 100 <br> \n",
    "$b$ = 1.59 $\\pm$ 0.13"
   ]
  },
  {
   "cell_type": "code",
   "execution_count": 50,
   "metadata": {},
   "outputs": [
    {
     "name": "stdout",
     "output_type": "stream",
     "text": [
      "12.205573502059377\n",
      "0.9979399718664899\n"
     ]
    }
   ],
   "source": [
    "Np = 100\n",
    "b = 1.59\n",
    "Mc = 7.7\n",
    "T = 2009-1900\n",
    "sigma = 0.13\n",
    "\n",
    "def a_val(N, M, b, T):\n",
    "    return np.log10(N/T) + M*b\n",
    "\n",
    "a = a_val(Np, Mc, b, T)\n",
    "print(a)\n",
    "\n",
    "def a_err(a, b, sigma):\n",
    "    return a*sigma/b\n",
    "\n",
    "print(a_err(a, b, sigma))"
   ]
  },
  {
   "cell_type": "code",
   "execution_count": 46,
   "metadata": {},
   "outputs": [
    {
     "name": "stdout",
     "output_type": "stream",
     "text": [
      "8.333732332970882\n",
      "0.23365604671880974\n"
     ]
    }
   ],
   "source": [
    "Np = 635\n",
    "b = 1.07\n",
    "Mc = 7.0\n",
    "T = 2009-1918\n",
    "sigma = 0.03\n",
    "\n",
    "def a_val(N, M, b, T):\n",
    "    return np.log10(N/T) + M*b\n",
    "\n",
    "a = a_val(Np, Mc, b, T)\n",
    "print(a)\n",
    "\n",
    "def a_err(a, b, sigma):\n",
    "    return sigma/b*a\n",
    "\n",
    "print(a_err(a, b, sigma))"
   ]
  },
  {
   "cell_type": "code",
   "execution_count": 51,
   "metadata": {},
   "outputs": [
    {
     "name": "stdout",
     "output_type": "stream",
     "text": [
      "8.209635928141394\n",
      "0.23456102651832553\n"
     ]
    }
   ],
   "source": [
    "Np = 810\n",
    "b = 1.05\n",
    "Mc = 6.8\n",
    "T = 2009-1940\n",
    "sigma = 0.03\n",
    "\n",
    "def a_val(N, M, b, T):\n",
    "    return np.log10(N/T) + M*b\n",
    "\n",
    "a = a_val(Np, Mc, b, T)\n",
    "print(a)\n",
    "\n",
    "def a_err(a, b, sigma):\n",
    "    return sigma/b*a\n",
    "\n",
    "print(a_err(a, b, sigma))"
   ]
  }
 ],
 "metadata": {
  "kernelspec": {
   "display_name": "Python 3",
   "language": "python",
   "name": "python3"
  },
  "language_info": {
   "codemirror_mode": {
    "name": "ipython",
    "version": 3
   },
   "file_extension": ".py",
   "mimetype": "text/x-python",
   "name": "python",
   "nbconvert_exporter": "python",
   "pygments_lexer": "ipython3",
   "version": "3.6.3"
  }
 },
 "nbformat": 4,
 "nbformat_minor": 2
}
